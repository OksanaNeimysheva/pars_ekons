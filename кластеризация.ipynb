{
 "cells": [
  {
   "cell_type": "code",
   "execution_count": null,
   "metadata": {},
   "outputs": [],
   "source": [
    "!pip install spacy"
   ]
  },
  {
   "cell_type": "code",
   "execution_count": 1,
   "metadata": {},
   "outputs": [
    {
     "name": "stderr",
     "output_type": "stream",
     "text": [
      "[nltk_data] Downloading collection 'popular'\n",
      "[nltk_data]    | \n",
      "[nltk_data]    | Downloading package cmudict to\n",
      "[nltk_data]    |     /Users/kristinapermikina/nltk_data...\n",
      "[nltk_data]    |   Package cmudict is already up-to-date!\n",
      "[nltk_data]    | Downloading package gazetteers to\n",
      "[nltk_data]    |     /Users/kristinapermikina/nltk_data...\n",
      "[nltk_data]    |   Package gazetteers is already up-to-date!\n",
      "[nltk_data]    | Downloading package genesis to\n",
      "[nltk_data]    |     /Users/kristinapermikina/nltk_data...\n",
      "[nltk_data]    |   Package genesis is already up-to-date!\n",
      "[nltk_data]    | Downloading package gutenberg to\n",
      "[nltk_data]    |     /Users/kristinapermikina/nltk_data...\n",
      "[nltk_data]    |   Package gutenberg is already up-to-date!\n",
      "[nltk_data]    | Downloading package inaugural to\n",
      "[nltk_data]    |     /Users/kristinapermikina/nltk_data...\n",
      "[nltk_data]    |   Package inaugural is already up-to-date!\n",
      "[nltk_data]    | Downloading package movie_reviews to\n",
      "[nltk_data]    |     /Users/kristinapermikina/nltk_data...\n",
      "[nltk_data]    |   Package movie_reviews is already up-to-date!\n",
      "[nltk_data]    | Downloading package names to\n",
      "[nltk_data]    |     /Users/kristinapermikina/nltk_data...\n",
      "[nltk_data]    |   Package names is already up-to-date!\n",
      "[nltk_data]    | Downloading package shakespeare to\n",
      "[nltk_data]    |     /Users/kristinapermikina/nltk_data...\n",
      "[nltk_data]    |   Package shakespeare is already up-to-date!\n",
      "[nltk_data]    | Downloading package stopwords to\n",
      "[nltk_data]    |     /Users/kristinapermikina/nltk_data...\n",
      "[nltk_data]    |   Package stopwords is already up-to-date!\n",
      "[nltk_data]    | Downloading package treebank to\n",
      "[nltk_data]    |     /Users/kristinapermikina/nltk_data...\n",
      "[nltk_data]    |   Package treebank is already up-to-date!\n",
      "[nltk_data]    | Downloading package twitter_samples to\n",
      "[nltk_data]    |     /Users/kristinapermikina/nltk_data...\n",
      "[nltk_data]    |   Package twitter_samples is already up-to-date!\n",
      "[nltk_data]    | Downloading package omw to\n",
      "[nltk_data]    |     /Users/kristinapermikina/nltk_data...\n",
      "[nltk_data]    |   Package omw is already up-to-date!\n",
      "[nltk_data]    | Downloading package omw-1.4 to\n",
      "[nltk_data]    |     /Users/kristinapermikina/nltk_data...\n",
      "[nltk_data]    |   Package omw-1.4 is already up-to-date!\n",
      "[nltk_data]    | Downloading package wordnet to\n",
      "[nltk_data]    |     /Users/kristinapermikina/nltk_data...\n",
      "[nltk_data]    |   Package wordnet is already up-to-date!\n",
      "[nltk_data]    | Downloading package wordnet2021 to\n",
      "[nltk_data]    |     /Users/kristinapermikina/nltk_data...\n",
      "[nltk_data]    |   Package wordnet2021 is already up-to-date!\n",
      "[nltk_data]    | Downloading package wordnet31 to\n",
      "[nltk_data]    |     /Users/kristinapermikina/nltk_data...\n",
      "[nltk_data]    |   Package wordnet31 is already up-to-date!\n",
      "[nltk_data]    | Downloading package wordnet_ic to\n",
      "[nltk_data]    |     /Users/kristinapermikina/nltk_data...\n",
      "[nltk_data]    |   Package wordnet_ic is already up-to-date!\n",
      "[nltk_data]    | Downloading package words to\n",
      "[nltk_data]    |     /Users/kristinapermikina/nltk_data...\n",
      "[nltk_data]    |   Package words is already up-to-date!\n",
      "[nltk_data]    | Downloading package maxent_ne_chunker to\n",
      "[nltk_data]    |     /Users/kristinapermikina/nltk_data...\n",
      "[nltk_data]    |   Package maxent_ne_chunker is already up-to-date!\n",
      "[nltk_data]    | Downloading package punkt to\n",
      "[nltk_data]    |     /Users/kristinapermikina/nltk_data...\n",
      "[nltk_data]    |   Package punkt is already up-to-date!\n",
      "[nltk_data]    | Downloading package snowball_data to\n",
      "[nltk_data]    |     /Users/kristinapermikina/nltk_data...\n",
      "[nltk_data]    |   Package snowball_data is already up-to-date!\n",
      "[nltk_data]    | Downloading package averaged_perceptron_tagger to\n",
      "[nltk_data]    |     /Users/kristinapermikina/nltk_data...\n",
      "[nltk_data]    |   Package averaged_perceptron_tagger is already up-\n",
      "[nltk_data]    |       to-date!\n",
      "[nltk_data]    | \n",
      "[nltk_data]  Done downloading collection popular\n"
     ]
    },
    {
     "data": {
      "text/plain": [
       "True"
      ]
     },
     "execution_count": 1,
     "metadata": {},
     "output_type": "execute_result"
    }
   ],
   "source": [
    "import pandas as pd\n",
    "import nltk\n",
    "\n",
    "nltk.download('popular')"
   ]
  },
  {
   "cell_type": "code",
   "execution_count": 2,
   "metadata": {},
   "outputs": [],
   "source": [
    "DATA_PATH = \"./data\"\n",
    "\n",
    "data_with_delimiters = {\n",
    "    \"Ekons_done.csv\": {\n",
    "        \"delimiter\": \"\\t\",\n",
    "        \"encoding\": \"utf-8\"\n",
    "    },\n",
    "    \"HH_ru_complete.csv\" : {\n",
    "        \"delimiter\": \",\",\n",
    "        \"encoding\": \"utf-8\"\n",
    "    },\n",
    "    \"incrussia_2021_2024.csv\": {\n",
    "        \"delimiter\": \"\\t\",\n",
    "        \"encoding\": \"utf-16\"\n",
    "    },\n",
    "    \"RB_ru_p1.csv\": {\n",
    "        \"delimiter\": \",\",\n",
    "        \"encoding\": \"utf-8\"\n",
    "    },\n",
    "    \"RB_ru_p2.csv\": {\n",
    "        \"delimiter\": \",\",\n",
    "        \"encoding\": \"utf-8\"\n",
    "    },\n",
    "    \"RB_ru_p3.csv\": {\n",
    "        \"delimiter\": \",\",\n",
    "        \"encoding\": \"utf-8\"\n",
    "    },\n",
    "    \"RBC_complete.csv\": {\n",
    "        \"delimiter\": \",\",\n",
    "        \"encoding\": \"utf-8\"\n",
    "    },\n",
    "    \"superjob_data.csv\": {\n",
    "        \"delimiter\": \";\",\n",
    "        \"encoding\": \"utf-8\"\n",
    "    },\n",
    "    \"Tadviser_21-24_clean.csv\": {\n",
    "        \"delimiter\": \"\\t\",\n",
    "        \"encoding\": \"utf-8\"\n",
    "    },\n",
    "    \"ved_ind.csv\": {\n",
    "        \"delimiter\": \";\",\n",
    "        \"encoding\": \"utf-8\"\n",
    "    },\n",
    "    \"ved_tech.csv\": {\n",
    "        \"delimiter\": \";\",\n",
    "        \"encoding\": \"utf-8\"\n",
    "    },\n",
    "}\n"
   ]
  },
  {
   "cell_type": "code",
   "execution_count": 3,
   "metadata": {
    "scrolled": true
   },
   "outputs": [
    {
     "name": "stdout",
     "output_type": "stream",
     "text": [
      "Requirement already satisfied: pymystem3 in /opt/homebrew/anaconda3/envs/clustering/lib/python3.11/site-packages (0.2.0)\n",
      "Requirement already satisfied: requests in /opt/homebrew/anaconda3/envs/clustering/lib/python3.11/site-packages (from pymystem3) (2.31.0)\n",
      "Requirement already satisfied: charset-normalizer<4,>=2 in /opt/homebrew/anaconda3/envs/clustering/lib/python3.11/site-packages (from requests->pymystem3) (2.0.4)\n",
      "Requirement already satisfied: idna<4,>=2.5 in /opt/homebrew/anaconda3/envs/clustering/lib/python3.11/site-packages (from requests->pymystem3) (3.7)\n",
      "Requirement already satisfied: urllib3<3,>=1.21.1 in /opt/homebrew/anaconda3/envs/clustering/lib/python3.11/site-packages (from requests->pymystem3) (2.2.1)\n",
      "Requirement already satisfied: certifi>=2017.4.17 in /opt/homebrew/anaconda3/envs/clustering/lib/python3.11/site-packages (from requests->pymystem3) (2024.2.2)\n"
     ]
    }
   ],
   "source": [
    "!pip install pymystem3"
   ]
  },
  {
   "cell_type": "code",
   "execution_count": 35,
   "metadata": {},
   "outputs": [
    {
     "name": "stdout",
     "output_type": "stream",
     "text": [
      "Collecting ru-core-news-md==3.7.0\n",
      "  Downloading https://github.com/explosion/spacy-models/releases/download/ru_core_news_md-3.7.0/ru_core_news_md-3.7.0-py3-none-any.whl (41.9 MB)\n",
      "\u001b[2K     \u001b[90m━━━━━━━━━━━━━━━━━━━━━━━━━━━━━━━━━━━━━━━━\u001b[0m \u001b[32m41.9/41.9 MB\u001b[0m \u001b[31m8.1 MB/s\u001b[0m eta \u001b[36m0:00:00\u001b[0m00:01\u001b[0m00:01\u001b[0m\n",
      "\u001b[?25hRequirement already satisfied: spacy<3.8.0,>=3.7.0 in /opt/homebrew/anaconda3/envs/clustering/lib/python3.11/site-packages (from ru-core-news-md==3.7.0) (3.7.5)\n",
      "Collecting pymorphy3>=1.0.0 (from ru-core-news-md==3.7.0)\n",
      "  Using cached pymorphy3-2.0.1-py3-none-any.whl.metadata (1.8 kB)\n",
      "Collecting dawg-python>=0.7.1 (from pymorphy3>=1.0.0->ru-core-news-md==3.7.0)\n",
      "  Using cached DAWG_Python-0.7.2-py2.py3-none-any.whl.metadata (7.0 kB)\n",
      "Collecting pymorphy3-dicts-ru (from pymorphy3>=1.0.0->ru-core-news-md==3.7.0)\n",
      "  Using cached pymorphy3_dicts_ru-2.4.417150.4580142-py2.py3-none-any.whl.metadata (2.0 kB)\n",
      "Requirement already satisfied: spacy-legacy<3.1.0,>=3.0.11 in /opt/homebrew/anaconda3/envs/clustering/lib/python3.11/site-packages (from spacy<3.8.0,>=3.7.0->ru-core-news-md==3.7.0) (3.0.12)\n",
      "Requirement already satisfied: spacy-loggers<2.0.0,>=1.0.0 in /opt/homebrew/anaconda3/envs/clustering/lib/python3.11/site-packages (from spacy<3.8.0,>=3.7.0->ru-core-news-md==3.7.0) (1.0.5)\n",
      "Requirement already satisfied: murmurhash<1.1.0,>=0.28.0 in /opt/homebrew/anaconda3/envs/clustering/lib/python3.11/site-packages (from spacy<3.8.0,>=3.7.0->ru-core-news-md==3.7.0) (1.0.10)\n",
      "Requirement already satisfied: cymem<2.1.0,>=2.0.2 in /opt/homebrew/anaconda3/envs/clustering/lib/python3.11/site-packages (from spacy<3.8.0,>=3.7.0->ru-core-news-md==3.7.0) (2.0.8)\n",
      "Requirement already satisfied: preshed<3.1.0,>=3.0.2 in /opt/homebrew/anaconda3/envs/clustering/lib/python3.11/site-packages (from spacy<3.8.0,>=3.7.0->ru-core-news-md==3.7.0) (3.0.9)\n",
      "Requirement already satisfied: thinc<8.3.0,>=8.2.2 in /opt/homebrew/anaconda3/envs/clustering/lib/python3.11/site-packages (from spacy<3.8.0,>=3.7.0->ru-core-news-md==3.7.0) (8.2.4)\n",
      "Requirement already satisfied: wasabi<1.2.0,>=0.9.1 in /opt/homebrew/anaconda3/envs/clustering/lib/python3.11/site-packages (from spacy<3.8.0,>=3.7.0->ru-core-news-md==3.7.0) (1.1.3)\n",
      "Requirement already satisfied: srsly<3.0.0,>=2.4.3 in /opt/homebrew/anaconda3/envs/clustering/lib/python3.11/site-packages (from spacy<3.8.0,>=3.7.0->ru-core-news-md==3.7.0) (2.4.8)\n",
      "Requirement already satisfied: catalogue<2.1.0,>=2.0.6 in /opt/homebrew/anaconda3/envs/clustering/lib/python3.11/site-packages (from spacy<3.8.0,>=3.7.0->ru-core-news-md==3.7.0) (2.0.10)\n",
      "Requirement already satisfied: weasel<0.5.0,>=0.1.0 in /opt/homebrew/anaconda3/envs/clustering/lib/python3.11/site-packages (from spacy<3.8.0,>=3.7.0->ru-core-news-md==3.7.0) (0.4.1)\n",
      "Requirement already satisfied: typer<1.0.0,>=0.3.0 in /opt/homebrew/anaconda3/envs/clustering/lib/python3.11/site-packages (from spacy<3.8.0,>=3.7.0->ru-core-news-md==3.7.0) (0.12.3)\n",
      "Requirement already satisfied: tqdm<5.0.0,>=4.38.0 in /opt/homebrew/anaconda3/envs/clustering/lib/python3.11/site-packages (from spacy<3.8.0,>=3.7.0->ru-core-news-md==3.7.0) (4.66.2)\n",
      "Requirement already satisfied: requests<3.0.0,>=2.13.0 in /opt/homebrew/anaconda3/envs/clustering/lib/python3.11/site-packages (from spacy<3.8.0,>=3.7.0->ru-core-news-md==3.7.0) (2.31.0)\n",
      "Requirement already satisfied: pydantic!=1.8,!=1.8.1,<3.0.0,>=1.7.4 in /opt/homebrew/anaconda3/envs/clustering/lib/python3.11/site-packages (from spacy<3.8.0,>=3.7.0->ru-core-news-md==3.7.0) (2.7.4)\n",
      "Requirement already satisfied: jinja2 in /opt/homebrew/anaconda3/envs/clustering/lib/python3.11/site-packages (from spacy<3.8.0,>=3.7.0->ru-core-news-md==3.7.0) (3.1.3)\n",
      "Requirement already satisfied: setuptools in /opt/homebrew/anaconda3/envs/clustering/lib/python3.11/site-packages (from spacy<3.8.0,>=3.7.0->ru-core-news-md==3.7.0) (69.5.1)\n",
      "Requirement already satisfied: packaging>=20.0 in /opt/homebrew/anaconda3/envs/clustering/lib/python3.11/site-packages (from spacy<3.8.0,>=3.7.0->ru-core-news-md==3.7.0) (23.2)\n",
      "Requirement already satisfied: langcodes<4.0.0,>=3.2.0 in /opt/homebrew/anaconda3/envs/clustering/lib/python3.11/site-packages (from spacy<3.8.0,>=3.7.0->ru-core-news-md==3.7.0) (3.4.0)\n",
      "Requirement already satisfied: numpy>=1.19.0 in /opt/homebrew/anaconda3/envs/clustering/lib/python3.11/site-packages (from spacy<3.8.0,>=3.7.0->ru-core-news-md==3.7.0) (1.26.4)\n",
      "Requirement already satisfied: language-data>=1.2 in /opt/homebrew/anaconda3/envs/clustering/lib/python3.11/site-packages (from langcodes<4.0.0,>=3.2.0->spacy<3.8.0,>=3.7.0->ru-core-news-md==3.7.0) (1.2.0)\n",
      "Requirement already satisfied: annotated-types>=0.4.0 in /opt/homebrew/anaconda3/envs/clustering/lib/python3.11/site-packages (from pydantic!=1.8,!=1.8.1,<3.0.0,>=1.7.4->spacy<3.8.0,>=3.7.0->ru-core-news-md==3.7.0) (0.7.0)\n",
      "Requirement already satisfied: pydantic-core==2.18.4 in /opt/homebrew/anaconda3/envs/clustering/lib/python3.11/site-packages (from pydantic!=1.8,!=1.8.1,<3.0.0,>=1.7.4->spacy<3.8.0,>=3.7.0->ru-core-news-md==3.7.0) (2.18.4)\n",
      "Requirement already satisfied: typing-extensions>=4.6.1 in /opt/homebrew/anaconda3/envs/clustering/lib/python3.11/site-packages (from pydantic!=1.8,!=1.8.1,<3.0.0,>=1.7.4->spacy<3.8.0,>=3.7.0->ru-core-news-md==3.7.0) (4.11.0)\n",
      "Requirement already satisfied: charset-normalizer<4,>=2 in /opt/homebrew/anaconda3/envs/clustering/lib/python3.11/site-packages (from requests<3.0.0,>=2.13.0->spacy<3.8.0,>=3.7.0->ru-core-news-md==3.7.0) (2.0.4)\n",
      "Requirement already satisfied: idna<4,>=2.5 in /opt/homebrew/anaconda3/envs/clustering/lib/python3.11/site-packages (from requests<3.0.0,>=2.13.0->spacy<3.8.0,>=3.7.0->ru-core-news-md==3.7.0) (3.7)\n",
      "Requirement already satisfied: urllib3<3,>=1.21.1 in /opt/homebrew/anaconda3/envs/clustering/lib/python3.11/site-packages (from requests<3.0.0,>=2.13.0->spacy<3.8.0,>=3.7.0->ru-core-news-md==3.7.0) (2.2.1)\n",
      "Requirement already satisfied: certifi>=2017.4.17 in /opt/homebrew/anaconda3/envs/clustering/lib/python3.11/site-packages (from requests<3.0.0,>=2.13.0->spacy<3.8.0,>=3.7.0->ru-core-news-md==3.7.0) (2024.2.2)\n",
      "Requirement already satisfied: blis<0.8.0,>=0.7.8 in /opt/homebrew/anaconda3/envs/clustering/lib/python3.11/site-packages (from thinc<8.3.0,>=8.2.2->spacy<3.8.0,>=3.7.0->ru-core-news-md==3.7.0) (0.7.11)\n",
      "Requirement already satisfied: confection<1.0.0,>=0.0.1 in /opt/homebrew/anaconda3/envs/clustering/lib/python3.11/site-packages (from thinc<8.3.0,>=8.2.2->spacy<3.8.0,>=3.7.0->ru-core-news-md==3.7.0) (0.1.5)\n",
      "Requirement already satisfied: click>=8.0.0 in /opt/homebrew/anaconda3/envs/clustering/lib/python3.11/site-packages (from typer<1.0.0,>=0.3.0->spacy<3.8.0,>=3.7.0->ru-core-news-md==3.7.0) (8.1.7)\n",
      "Requirement already satisfied: shellingham>=1.3.0 in /opt/homebrew/anaconda3/envs/clustering/lib/python3.11/site-packages (from typer<1.0.0,>=0.3.0->spacy<3.8.0,>=3.7.0->ru-core-news-md==3.7.0) (1.5.4)\n",
      "Requirement already satisfied: rich>=10.11.0 in /opt/homebrew/anaconda3/envs/clustering/lib/python3.11/site-packages (from typer<1.0.0,>=0.3.0->spacy<3.8.0,>=3.7.0->ru-core-news-md==3.7.0) (13.7.1)\n",
      "Requirement already satisfied: cloudpathlib<1.0.0,>=0.7.0 in /opt/homebrew/anaconda3/envs/clustering/lib/python3.11/site-packages (from weasel<0.5.0,>=0.1.0->spacy<3.8.0,>=3.7.0->ru-core-news-md==3.7.0) (0.18.1)\n",
      "Requirement already satisfied: smart-open<8.0.0,>=5.2.1 in /opt/homebrew/anaconda3/envs/clustering/lib/python3.11/site-packages (from weasel<0.5.0,>=0.1.0->spacy<3.8.0,>=3.7.0->ru-core-news-md==3.7.0) (7.0.4)\n",
      "Requirement already satisfied: MarkupSafe>=2.0 in /opt/homebrew/anaconda3/envs/clustering/lib/python3.11/site-packages (from jinja2->spacy<3.8.0,>=3.7.0->ru-core-news-md==3.7.0) (2.1.3)\n",
      "Requirement already satisfied: marisa-trie>=0.7.7 in /opt/homebrew/anaconda3/envs/clustering/lib/python3.11/site-packages (from language-data>=1.2->langcodes<4.0.0,>=3.2.0->spacy<3.8.0,>=3.7.0->ru-core-news-md==3.7.0) (1.2.0)\n",
      "Requirement already satisfied: markdown-it-py>=2.2.0 in /opt/homebrew/anaconda3/envs/clustering/lib/python3.11/site-packages (from rich>=10.11.0->typer<1.0.0,>=0.3.0->spacy<3.8.0,>=3.7.0->ru-core-news-md==3.7.0) (3.0.0)\n",
      "Requirement already satisfied: pygments<3.0.0,>=2.13.0 in /opt/homebrew/anaconda3/envs/clustering/lib/python3.11/site-packages (from rich>=10.11.0->typer<1.0.0,>=0.3.0->spacy<3.8.0,>=3.7.0->ru-core-news-md==3.7.0) (2.15.1)\n",
      "Requirement already satisfied: wrapt in /opt/homebrew/anaconda3/envs/clustering/lib/python3.11/site-packages (from smart-open<8.0.0,>=5.2.1->weasel<0.5.0,>=0.1.0->spacy<3.8.0,>=3.7.0->ru-core-news-md==3.7.0) (1.16.0)\n",
      "Requirement already satisfied: mdurl~=0.1 in /opt/homebrew/anaconda3/envs/clustering/lib/python3.11/site-packages (from markdown-it-py>=2.2.0->rich>=10.11.0->typer<1.0.0,>=0.3.0->spacy<3.8.0,>=3.7.0->ru-core-news-md==3.7.0) (0.1.2)\n",
      "Using cached pymorphy3-2.0.1-py3-none-any.whl (53 kB)\n",
      "Using cached DAWG_Python-0.7.2-py2.py3-none-any.whl (11 kB)\n",
      "Using cached pymorphy3_dicts_ru-2.4.417150.4580142-py2.py3-none-any.whl (8.4 MB)\n",
      "Installing collected packages: pymorphy3-dicts-ru, dawg-python, pymorphy3, ru-core-news-md\n",
      "Successfully installed dawg-python-0.7.2 pymorphy3-2.0.1 pymorphy3-dicts-ru-2.4.417150.4580142 ru-core-news-md-3.7.0\n",
      "\u001b[38;5;2m✔ Download and installation successful\u001b[0m\n",
      "You can now load the package via spacy.load('ru_core_news_md')\n"
     ]
    }
   ],
   "source": [
    "!python -m spacy download ru_core_news_md"
   ]
  },
  {
   "cell_type": "code",
   "execution_count": 40,
   "metadata": {},
   "outputs": [],
   "source": [
    "import spacy\n",
    "from nltk.corpus import stopwords\n",
    "from pymystem3  import Mystem\n",
    "from string import punctuation\n",
    "from nltk import ngrams\n",
    "\n",
    "mystem = Mystem()\n",
    "stop_words = stopwords.words('russian') + ['который', 'несколько', 'однако', 'например', 'очень', 'как', 'abercrombie', 'fitch', 'млн',\n",
    "                                          'ноябрь', 'апрель', 'август', 'октябрь', 'март', 'июль', 'январь', 'сентябрь', 'что-то', 'также', 'самый', 'из'\n",
    "                                          , 'за', 'из-за', 'являться', 'около', 'среди', 'часто', 'поэтому', 'то', 'любой', 'поскольку', 'какой', 'согласно',\n",
    "                                          'https', 'ленобласть', 'только', 'соответственно', 'во', 'по', 'затем', 'значительно']\n",
    "\n",
    "nlp = spacy.load(\"ru_core_news_md\")\n",
    "\n",
    "def parse_tokens(text):        \n",
    "    tokens = mystem.lemmatize(text.lower()) \n",
    "    tokens = [token.strip() for token in tokens if token not in stop_words  \n",
    "                and token.strip() not in punctuation  \n",
    "                and len(token) > 4 \n",
    "                and not token.strip().isnumeric()]\n",
    "\n",
    "    return ' '.join(tokens)\n"
   ]
  },
  {
   "cell_type": "code",
   "execution_count": 41,
   "metadata": {},
   "outputs": [
    {
     "name": "stdout",
     "output_type": "stream",
     "text": [
      "Обработка файла - Ekons_done.csv\n",
      "Обработка файла - HH_ru_complete.csv\n",
      "Обработка файла - incrussia_2021_2024.csv\n",
      "Обработка файла - RB_ru_p1.csv\n",
      "Обработка файла - RB_ru_p2.csv\n",
      "Обработка файла - RB_ru_p3.csv\n",
      "Обработка файла - RBC_complete.csv\n",
      "Обработка файла - superjob_data.csv\n",
      "Обработка файла - Tadviser_21-24_clean.csv\n",
      "Обработка файла - ved_ind.csv\n",
      "Обработка файла - ved_tech.csv\n"
     ]
    }
   ],
   "source": [
    "dictionary = {}\n",
    "dfs = []\n",
    "\n",
    "for (file_name, meta) in data_with_delimiters.items():\n",
    "    print(f\"Обработка файла - {file_name}\")\n",
    "    \n",
    "    df = pd.read_csv(f'{DATA_PATH}/{file_name}', \n",
    "                        encoding=meta[\"encoding\"], \n",
    "                        delimiter=meta['delimiter'])\n",
    "    \n",
    "    df['text'] = df['text'].astype(str)\n",
    "    df['text'] = df['text'].apply(parse_tokens)\n",
    "\n",
    "    dfs.append(df)\n",
    "\n",
    "df = pd.concat(dfs)\n"
   ]
  },
  {
   "cell_type": "code",
   "execution_count": 43,
   "metadata": {},
   "outputs": [
    {
     "name": "stdout",
     "output_type": "stream",
     "text": [
      "Requirement already satisfied: scikit-learn in /opt/homebrew/anaconda3/envs/clustering/lib/python3.11/site-packages (1.5.0)\n",
      "Requirement already satisfied: numpy>=1.19.5 in /opt/homebrew/anaconda3/envs/clustering/lib/python3.11/site-packages (from scikit-learn) (1.26.4)\n",
      "Requirement already satisfied: scipy>=1.6.0 in /opt/homebrew/anaconda3/envs/clustering/lib/python3.11/site-packages (from scikit-learn) (1.13.0)\n",
      "Requirement already satisfied: joblib>=1.2.0 in /opt/homebrew/anaconda3/envs/clustering/lib/python3.11/site-packages (from scikit-learn) (1.4.0)\n",
      "Requirement already satisfied: threadpoolctl>=3.1.0 in /opt/homebrew/anaconda3/envs/clustering/lib/python3.11/site-packages (from scikit-learn) (3.5.0)\n"
     ]
    }
   ],
   "source": [
    "!pip install -U scikit-learn"
   ]
  },
  {
   "cell_type": "markdown",
   "metadata": {},
   "source": [
    "## Преобразуем текста в вектора"
   ]
  },
  {
   "cell_type": "code",
   "execution_count": 44,
   "metadata": {},
   "outputs": [],
   "source": [
    "import matplotlib.pyplot as plt\n",
    "from sklearn.decomposition import PCA\n",
    "\n",
    "#конструктор класса, передаем метод класстеризации , метод преобразования текста в векторы, понизить размерность метода до двух \n",
    "\n",
    "class Clusterization:  \n",
    "    #конструктор который создает объект и принимает на вход (метод класстеризации векторизации и названия графика и сохраняет в переменные (сохранить себе))\n",
    "    def __init__(self, clusterization_method, vectorizer, plot_title):\n",
    "        self.clusterization_method = clusterization_method\n",
    "        self.vectorizer = vectorizer\n",
    "        self.pca = PCA(n_components=2) #понизить размерность метода до двух (чтоб на двумерном графике нарисовать)\n",
    "        self.plot_title = plot_title\n",
    "        \n",
    "    \n",
    "    def __draw_scatter(self, matrix, labels):\n",
    "        \"\"\"\n",
    "        Метод для отрисовки графика рассеяния\n",
    "        \"\"\"\n",
    "        fig = plt.figure(figsize=(4, 4)) # создаем фигуру 4 на 4\n",
    "        ax = fig.add_subplot(1,1,1) #добавляем пустой график\n",
    "        ax.title.set_text(self.plot_title) #заголовок \n",
    "\n",
    "        reduced = self.pca.fit_transform(matrix) #преобразуем вектора размера 2 чтобы нарисовать на двухмерном графике\n",
    "        t = reduced.transpose() #транспонирование матрицы \n",
    "        \n",
    "        scatter = ax.scatter(t[0], t[1], c = labels) #добавляем диаграмму рассения \n",
    "        plt.colorbar(scatter) #цветная херня с боку\n",
    "        plt.show() #вывод графика\n",
    "\n",
    "   \n",
    "    def apply(self, dataframe_of_texts):\n",
    "        \"\"\"\n",
    "        Запускает кластеризацию и рисует график разбиения по кластерам\n",
    "        \"\"\"\n",
    "        matrix = self.vectorizer.fit_transform(dataframe_of_texts) #векторизация текста (переменная которая хранит в себе метод векторизации, который будем передавать в конструктор)\n",
    "        matrix = matrix.toarray() #превращаем матрицу в массив потому что clusterization_method.fit_predict работает с массивами\n",
    "        labels = self.clusterization_method.fit_predict(matrix) #вызов кластеризации  (fit_predict метод класстеризатора)\n",
    "\n",
    "        self.__draw_scatter(matrix, labels) \n",
    "        \n",
    "        return labels\n",
    "        "
   ]
  },
  {
   "cell_type": "code",
   "execution_count": 45,
   "metadata": {},
   "outputs": [],
   "source": [
    "import matplotlib.pyplot as plt\n",
    "from sklearn.decomposition import PCA\n",
    "\n",
    "class Clusterization:  \n",
    "   \n",
    "    def __init__(self, clusterization_method, vectorizer, plot_title):\n",
    "        self.clusterization_method = clusterization_method\n",
    "        self.vectorizer = vectorizer\n",
    "        self.pca = PCA(n_components=2)\n",
    "        self.plot_title = plot_title\n",
    "        \n",
    "    \n",
    "    def __draw_scatter(self, matrix, labels):\n",
    "        \"\"\"\n",
    "        Метод для отрисовки графика рассеяния\n",
    "        \"\"\"\n",
    "        fig = plt.figure(figsize=(4, 4))\n",
    "        ax = fig.add_subplot(1,1,1) \n",
    "        ax.title.set_text(self.plot_title)  \n",
    "\n",
    "        reduced = self.pca.fit_transform(matrix) \n",
    "        t = reduced.transpose() \n",
    "        \n",
    "        scatter = ax.scatter(t[0], t[1], c = labels) \n",
    "        plt.colorbar(scatter) \n",
    "        plt.show() \n",
    "\n",
    "   \n",
    "    def apply(self, dataframe_of_texts):\n",
    "        \"\"\"\n",
    "        Запускает кластеризацию и рисует график разбиения по кластерам\n",
    "        \"\"\"\n",
    "        matrix = self.vectorizer.fit_transform(dataframe_of_texts)\n",
    "        matrix = matrix.toarray() \n",
    "        labels = self.clusterization_method.fit_predict(matrix) \n",
    "\n",
    "        self.__draw_scatter(matrix, labels) \n",
    "        \n",
    "        return labels"
   ]
  },
  {
   "cell_type": "markdown",
   "metadata": {},
   "source": [
    "## Кластеризация"
   ]
  },
  {
   "cell_type": "code",
   "execution_count": 50,
   "metadata": {},
   "outputs": [],
   "source": [
    "import nltk\n",
    "import spacy\n",
    "\n",
    "def top_k_keywords_in_cluster(df = None, n_cluster = 3, min_df = 0.0, max_df = 1.0, k = 10, label_name = 'inner_cluster_labels'):\n",
    "    for c in range(0, n_cluster):\n",
    "        subcluster = df[df[label_name] == c] #подкластер кластера 1  \n",
    "        \n",
    "        tdf_idf_vec = TfidfVectorizer(stop_words = stop_words, min_df = min_df, max_df = max_df)  \n",
    "        tfidf_val = tdf_idf_vec.fit_transform(subcluster['text'])   # получаем вектора \n",
    "        sorted_keywords = sorted(tdf_idf_vec.vocabulary_, key=lambda x: tfidf_val[0, tdf_idf_vec.vocabulary_[x]], reverse=True)\n",
    "        doc = nlp(\" \".join(sorted_keywords))\n",
    "        \n",
    "        keywords = []\n",
    "        for token in doc:\n",
    "            if token.pos_ == \"NOUN\":\n",
    "                keywords.append(token.lemma_)\n",
    "    \n",
    "        keywords = keywords[:k]\n",
    "        \n",
    "        print(f'Ключевые слова для кластера {c} \\n{\" \".join(keywords)}\\n')"
   ]
  },
  {
   "cell_type": "code",
   "execution_count": 47,
   "metadata": {},
   "outputs": [
    {
     "data": {
      "image/png": "[encoded data removed]",
      "text/plain": [
       "<Figure size 400x400 with 2 Axes>"
      ]
     },
     "metadata": {},
     "output_type": "display_data"
    }
   ],
   "source": [
    "from sklearn.cluster import KMeans\n",
    "from sklearn.feature_extraction.text import CountVectorizer, TfidfVectorizer\n",
    "\n",
    "N_CLUSTERS = 3\n",
    "\n",
    "# Векторизация текста по биграммам\n",
    "tfidf = TfidfVectorizer(ngram_range=(2,2), max_features=2000) #экспериментальным путем биграммы самых важных тфайдф большой 2000 биграмм которые встречаются в тексте \n",
    "kmeans = KMeans(n_clusters=N_CLUSTERS, max_iter=1000, n_init=100) #сколько раз прогнать (создаем экземпляр класса kmeans из библиотеки sklearn\n",
    "#в которое количество кластеров максимальное количество итераци и сколько раз инецеализировать начальное состояние, это все опытным путем)\n",
    "\n",
    "cluster = Clusterization(clusterization_method=kmeans, vectorizer = tfidf, plot_title = \"K-Means\") #это создание экземпляра класса \n",
    "#передаем метод класстеризаци kmeans созданный раннее, векторизатор )\n",
    "\n",
    "labels = cluster.apply(df['text']) #вызов эплай (запускает векторизацию кластеризацию и рисует график и возвращает метки какой текст к какому кластеру принадлежит)"
   ]
  },
  {
   "cell_type": "code",
   "execution_count": 48,
   "metadata": {},
   "outputs": [],
   "source": [
    "df['labels'] = labels"
   ]
  },
  {
   "cell_type": "code",
   "execution_count": 51,
   "metadata": {},
   "outputs": [
    {
     "name": "stdout",
     "output_type": "stream",
     "text": [
      "Ключевые слова для кластера 0 \n",
      "система компания решение время программа месяц продукт рубль директор пресс\n",
      "\n",
      "Ключевые слова для кластера 1 \n",
      "человек решение результат работа экономика система исследование большинство вопрос основа\n",
      "\n",
      "Ключевые слова для кластера 2 \n",
      "модель работа устройство связь система приложение задача рынок данные защита\n",
      "\n"
     ]
    }
   ],
   "source": [
    "top_k_keywords_in_cluster(df = df, n_cluster = 3, min_df = 0.10, max_df = 0.95, label_name='labels')"
   ]
  },
  {
   "cell_type": "code",
   "execution_count": 52,
   "metadata": {},
   "outputs": [],
   "source": [
    "cluster_1 = df[df['labels'] == 0]\n",
    "cluster_2 = df[df['labels'] == 1]\n",
    "cluster_3 = df[df['labels'] == 2]"
   ]
  },
  {
   "cell_type": "markdown",
   "metadata": {},
   "source": [
    "## Анализ первого кластера"
   ]
  },
  {
   "cell_type": "markdown",
   "metadata": {},
   "source": [
    "### Кластеризация первого кластера"
   ]
  },
  {
   "cell_type": "code",
   "execution_count": 62,
   "metadata": {},
   "outputs": [
    {
     "data": {
      "image/png": "[encoded data removed]",
      "text/plain": [
       "<Figure size 400x400 with 2 Axes>"
      ]
     },
     "metadata": {},
     "output_type": "display_data"
    }
   ],
   "source": [
    "N_SUBCLUSTERS_IN_CLUSTER_1 = 3\n",
    "tfidf_cluster_1 = TfidfVectorizer(ngram_range=(2,2), max_features=2000)\n",
    "kmeans_cluster_1 = KMeans(n_clusters=N_SUBCLUSTERS_IN_CLUSTER_1, max_iter=1000, n_init=50)\n",
    "\n",
    "clusterizator = Clusterization(clusterization_method=kmeans_cluster_1, vectorizer = tfidf_cluster_1, plot_title = \"Cluster #1 scatter plot\")\n",
    "\n",
    "cluster_1_labels = clusterizator.apply(cluster_1['text'])"
   ]
  },
  {
   "cell_type": "markdown",
   "metadata": {},
   "source": [
    "### Анализ трендов и выявление тем"
   ]
  },
  {
   "cell_type": "code",
   "execution_count": 63,
   "metadata": {},
   "outputs": [
    {
     "name": "stderr",
     "output_type": "stream",
     "text": [
      "/var/folders/7x/3pdx41sj3zn7z3q2my_9_frw0000gn/T/ipykernel_41583/2394857899.py:1: SettingWithCopyWarning: \n",
      "A value is trying to be set on a copy of a slice from a DataFrame.\n",
      "Try using .loc[row_indexer,col_indexer] = value instead\n",
      "\n",
      "See the caveats in the documentation: https://pandas.pydata.org/pandas-docs/stable/user_guide/indexing.html#returning-a-view-versus-a-copy\n",
      "  cluster_1['inner_cluster_labels'] = cluster_1_labels\n"
     ]
    }
   ],
   "source": [
    "cluster_1['inner_cluster_labels'] = cluster_1_labels"
   ]
  },
  {
   "cell_type": "markdown",
   "metadata": {},
   "source": [
    "Выявим топ K самых частых слов в каждом подкластере "
   ]
  },
  {
   "cell_type": "code",
   "execution_count": 76,
   "metadata": {},
   "outputs": [
    {
     "name": "stdout",
     "output_type": "stream",
     "text": [
      "Ключевые слова для кластера 0 \n",
      "система уведомление оприостановка перевыпуск майкл репутация обязательство отдел угроза перспектива\n",
      "\n",
      "Ключевые слова для кластера 1 \n",
      "переезд специалист программист рубеж дефицит специалистовпрямо дляобмен опытомэмиграция эмиграция кактурция\n",
      "\n",
      "Ключевые слова для кластера 2 \n",
      "пожертвование организация кошелёк ситуация правительство робинсон донор оружие счесть аккаунт\n",
      "\n"
     ]
    }
   ],
   "source": [
    "top_k_keywords_in_cluster(df = cluster_1, n_cluster = N_SUBCLUSTERS_IN_CLUSTER_1, k = 10)"
   ]
  },
  {
   "cell_type": "code",
   "execution_count": 82,
   "metadata": {},
   "outputs": [],
   "source": [
    "cluster_1.loc[cluster_1['inner_cluster_labels'] == 0, 'Тема'] = \"Банки\"\n",
    "cluster_1.loc[cluster_1['inner_cluster_labels'] == 1, 'Тема'] = \"Миграция\"\n",
    "cluster_1.loc[cluster_1['inner_cluster_labels'] == 2, 'Тема'] = \"Финансы\""
   ]
  },
  {
   "cell_type": "markdown",
   "metadata": {},
   "source": [
    "## Анализ второго кластера"
   ]
  },
  {
   "cell_type": "markdown",
   "metadata": {},
   "source": [
    "### Кластеризация второго кластера"
   ]
  },
  {
   "cell_type": "code",
   "execution_count": 83,
   "metadata": {},
   "outputs": [
    {
     "data": {
      "image/png": "[encoded data removed]",
      "text/plain": [
       "<Figure size 400x400 with 2 Axes>"
      ]
     },
     "metadata": {},
     "output_type": "display_data"
    }
   ],
   "source": [
    "N_SUBCLUSTERS_IN_CLUSTER_2 = 3\n",
    "\n",
    "tfidf_cluster_2 = TfidfVectorizer(ngram_range=(2,2), max_features=2000)\n",
    "kmeans_cluster_2 = KMeans(n_clusters=N_SUBCLUSTERS_IN_CLUSTER_2, max_iter=1000, n_init=100)\n",
    "clusterizator = Clusterization(clusterization_method=kmeans_cluster_2, vectorizer = tfidf_cluster_2, plot_title = \"K-Means\")\n",
    "\n",
    "cluster_2_labels = clusterizator.apply(cluster_2['text'])"
   ]
  },
  {
   "cell_type": "code",
   "execution_count": 84,
   "metadata": {},
   "outputs": [
    {
     "name": "stderr",
     "output_type": "stream",
     "text": [
      "/var/folders/7x/3pdx41sj3zn7z3q2my_9_frw0000gn/T/ipykernel_41583/3189697875.py:1: SettingWithCopyWarning: \n",
      "A value is trying to be set on a copy of a slice from a DataFrame.\n",
      "Try using .loc[row_indexer,col_indexer] = value instead\n",
      "\n",
      "See the caveats in the documentation: https://pandas.pydata.org/pandas-docs/stable/user_guide/indexing.html#returning-a-view-versus-a-copy\n",
      "  cluster_2['inner_cluster_labels'] = cluster_2_labels\n"
     ]
    }
   ],
   "source": [
    "cluster_2['inner_cluster_labels'] = cluster_2_labels"
   ]
  },
  {
   "cell_type": "code",
   "execution_count": 87,
   "metadata": {},
   "outputs": [
    {
     "name": "stdout",
     "output_type": "stream",
     "text": [
      "Ключевые слова для кластера 0 \n",
      "вакансия навык страна исследователь вытеснение интеллект профессия спойлер спрос неоднородность\n",
      "\n",
      "Ключевые слова для кластера 1 \n",
      "элькади турист россиянин преобразование соотношение авиабилет чиновник фактор достижение турпоток\n",
      "\n",
      "Ключевые слова для кластера 2 \n",
      "канеман человек искажение суждение психология решение вероятность подталкивание психолог талер\n",
      "\n"
     ]
    }
   ],
   "source": [
    "top_k_keywords_in_cluster(df = cluster_2, n_cluster = N_SUBCLUSTERS_IN_CLUSTER_2, k=10)"
   ]
  },
  {
   "cell_type": "code",
   "execution_count": 89,
   "metadata": {},
   "outputs": [
    {
     "name": "stderr",
     "output_type": "stream",
     "text": [
      "/var/folders/7x/3pdx41sj3zn7z3q2my_9_frw0000gn/T/ipykernel_41583/2782530597.py:1: SettingWithCopyWarning: \n",
      "A value is trying to be set on a copy of a slice from a DataFrame.\n",
      "Try using .loc[row_indexer,col_indexer] = value instead\n",
      "\n",
      "See the caveats in the documentation: https://pandas.pydata.org/pandas-docs/stable/user_guide/indexing.html#returning-a-view-versus-a-copy\n",
      "  cluster_2.loc[cluster_2['inner_cluster_labels'] == 0, 'Тема'] = \"Искусственный интеллект\"\n"
     ]
    }
   ],
   "source": [
    "cluster_2.loc[cluster_2['inner_cluster_labels'] == 0, 'Тема'] = \"Искусственный интеллект\""
   ]
  },
  {
   "cell_type": "code",
   "execution_count": 90,
   "metadata": {},
   "outputs": [],
   "source": [
    "cluster_2.loc[cluster_2['inner_cluster_labels'] == 1, 'Тема'] = \"Туризм\""
   ]
  },
  {
   "cell_type": "code",
   "execution_count": 142,
   "metadata": {},
   "outputs": [],
   "source": [
    "cluster_2.loc[cluster_2['inner_cluster_labels'] == 2, 'Тема'] = \"Мировая экономика\""
   ]
  },
  {
   "cell_type": "markdown",
   "metadata": {},
   "source": [
    "## Анализ третьего кластера"
   ]
  },
  {
   "cell_type": "markdown",
   "metadata": {},
   "source": [
    "### Кластеризация третьего кластера"
   ]
  },
  {
   "cell_type": "code",
   "execution_count": 108,
   "metadata": {},
   "outputs": [
    {
     "data": {
      "image/png": "[encoded data removed]",
      "text/plain": [
       "<Figure size 400x400 with 2 Axes>"
      ]
     },
     "metadata": {},
     "output_type": "display_data"
    }
   ],
   "source": [
    "N_SUBCLUSTERS_IN_CLUSTER_3 = 2\n",
    "tfidf_cluster_3 = TfidfVectorizer(ngram_range=(2,2), max_features=2000)\n",
    "kmeans_cluster_3 = KMeans(n_clusters=N_SUBCLUSTERS_IN_CLUSTER_3, max_iter=1000, n_init=100)\n",
    "clusterizator = Clusterization(clusterization_method=kmeans_cluster_3, vectorizer = tfidf_cluster_3, plot_title = \"K-Means\")\n",
    "\n",
    "cluster_3_labels = clusterizator.apply(cluster_3['text'])"
   ]
  },
  {
   "cell_type": "code",
   "execution_count": 113,
   "metadata": {},
   "outputs": [
    {
     "name": "stderr",
     "output_type": "stream",
     "text": [
      "/var/folders/7x/3pdx41sj3zn7z3q2my_9_frw0000gn/T/ipykernel_41583/2562286174.py:1: SettingWithCopyWarning: \n",
      "A value is trying to be set on a copy of a slice from a DataFrame.\n",
      "Try using .loc[row_indexer,col_indexer] = value instead\n",
      "\n",
      "See the caveats in the documentation: https://pandas.pydata.org/pandas-docs/stable/user_guide/indexing.html#returning-a-view-versus-a-copy\n",
      "  cluster_3['inner_cluster_labels'] = cluster_3_labels\n"
     ]
    }
   ],
   "source": [
    "cluster_3['inner_cluster_labels'] = cluster_3_labels"
   ]
  },
  {
   "cell_type": "code",
   "execution_count": 114,
   "metadata": {},
   "outputs": [
    {
     "name": "stdout",
     "output_type": "stream",
     "text": [
      "Ключевые слова для кластера 0 \n",
      "модель работа устройство связь система приложение задача рынок данные запуск декабрь сфера комплекс объём поставщик тренд оценка основа оборудование программа\n",
      "\n",
      "Ключевые слова для кластера 1 \n",
      "центр контроль процесс внедрение специалист сотрудник обработка качество уровень работа точка состояние обучение образ случай требование режим место количество часть\n",
      "\n"
     ]
    }
   ],
   "source": [
    "top_k_keywords_in_cluster(df = cluster_3, n_cluster = N_SUBCLUSTERS_IN_CLUSTER_3, k=20, min_df = 0.10, max_df = 0.90)"
   ]
  },
  {
   "cell_type": "code",
   "execution_count": 123,
   "metadata": {},
   "outputs": [
    {
     "name": "stderr",
     "output_type": "stream",
     "text": [
      "/var/folders/7x/3pdx41sj3zn7z3q2my_9_frw0000gn/T/ipykernel_41583/2414186228.py:1: SettingWithCopyWarning: \n",
      "A value is trying to be set on a copy of a slice from a DataFrame.\n",
      "Try using .loc[row_indexer,col_indexer] = value instead\n",
      "\n",
      "See the caveats in the documentation: https://pandas.pydata.org/pandas-docs/stable/user_guide/indexing.html#returning-a-view-versus-a-copy\n",
      "  cluster_3.loc[cluster_3['inner_cluster_labels'] == 0, 'Тема'] = \"Программное обеспечение\"\n"
     ]
    }
   ],
   "source": [
    "cluster_3.loc[cluster_3['inner_cluster_labels'] == 0, 'Тема'] = \"Программное обеспечение\""
   ]
  },
  {
   "cell_type": "code",
   "execution_count": 124,
   "metadata": {},
   "outputs": [],
   "source": [
    "cluster_3.loc[cluster_3['inner_cluster_labels'] == 1, 'Тема'] = \"Автоматизация\""
   ]
  },
  {
   "cell_type": "markdown",
   "metadata": {},
   "source": [
    "## Разметка кластерами датасета"
   ]
  },
  {
   "cell_type": "code",
   "execution_count": 117,
   "metadata": {},
   "outputs": [],
   "source": [
    "df.loc[df['labels'] == 0, \"Тема\"] = cluster_1['Тема']"
   ]
  },
  {
   "cell_type": "code",
   "execution_count": null,
   "metadata": {},
   "outputs": [],
   "source": [
    "df.loc[df['labels'] == 1, \"Тема\"] = cluster_2['Тема']"
   ]
  },
  {
   "cell_type": "code",
   "execution_count": 125,
   "metadata": {},
   "outputs": [],
   "source": [
    "df.loc[df['labels'] == 2, \"Тема\"] = cluster_3['Тема']"
   ]
  },
  {
   "cell_type": "code",
   "execution_count": 126,
   "metadata": {},
   "outputs": [],
   "source": [
    "df = df[df['date'] != 'Ink_Russia']\n",
    "df = df[df['date'] != 'date']"
   ]
  },
  {
   "cell_type": "code",
   "execution_count": 127,
   "metadata": {},
   "outputs": [
    {
     "name": "stderr",
     "output_type": "stream",
     "text": [
      "/var/folders/7x/3pdx41sj3zn7z3q2my_9_frw0000gn/T/ipykernel_41583/2094182339.py:1: UserWarning: Parsing dates in %d.%m.%Y format when dayfirst=False (the default) was specified. Pass `dayfirst=True` or specify a format to silence this warning.\n",
      "  df['date'] = df['date'].apply(pd.to_datetime)\n"
     ]
    }
   ],
   "source": [
    "df['date'] = df['date'].apply(pd.to_datetime)"
   ]
  },
  {
   "cell_type": "code",
   "execution_count": 131,
   "metadata": {},
   "outputs": [
    {
     "name": "stdout",
     "output_type": "stream",
     "text": [
      "Collecting openpyxl\n",
      "  Downloading openpyxl-3.1.4-py2.py3-none-any.whl.metadata (2.5 kB)\n",
      "Collecting et-xmlfile (from openpyxl)\n",
      "  Downloading et_xmlfile-1.1.0-py3-none-any.whl.metadata (1.8 kB)\n",
      "Downloading openpyxl-3.1.4-py2.py3-none-any.whl (251 kB)\n",
      "\u001b[2K   \u001b[90m━━━━━━━━━━━━━━━━━━━━━━━━━━━━━━━━━━━━━━━━\u001b[0m \u001b[32m251.4/251.4 kB\u001b[0m \u001b[31m1.5 MB/s\u001b[0m eta \u001b[36m0:00:00\u001b[0m00:01\u001b[0m00:01\u001b[0mm\n",
      "\u001b[?25hDownloading et_xmlfile-1.1.0-py3-none-any.whl (4.7 kB)\n",
      "Installing collected packages: et-xmlfile, openpyxl\n",
      "Successfully installed et-xmlfile-1.1.0 openpyxl-3.1.4\n"
     ]
    }
   ],
   "source": [
    "!pip install openpyxl"
   ]
  },
  {
   "cell_type": "code",
   "execution_count": 140,
   "metadata": {},
   "outputs": [],
   "source": [
    "df['date'] = df['date'].dt.strftime('%Y-%m-%d')"
   ]
  },
  {
   "cell_type": "code",
   "execution_count": 141,
   "metadata": {},
   "outputs": [],
   "source": [
    "with pd.ExcelWriter('разметка по темам.xlsx') as writer:\n",
    "    df.to_excel(writer)"
   ]
  },
  {
   "cell_type": "code",
   "execution_count": null,
   "metadata": {},
   "outputs": [],
   "source": []
  }
 ],
 "metadata": {
  "kernelspec": {
   "display_name": "Python 3 (ipykernel)",
   "language": "python",
   "name": "python3"
  },
  "language_info": {
   "codemirror_mode": {
    "name": "ipython",
    "version": 3
   },
   "file_extension": ".py",
   "mimetype": "text/x-python",
   "name": "python",
   "nbconvert_exporter": "python",
   "pygments_lexer": "ipython3",
   "version": "3.11.9"
  }
 },
 "nbformat": 4,
 "nbformat_minor": 4
}
